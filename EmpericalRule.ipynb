{
 "cells": [
  {
   "cell_type": "markdown",
   "id": "vulnerable-terminal",
   "metadata": {},
   "source": [
    "# __Can You Trust Statistics__ \n",
    "\n",
    "## *Evaluating the accuracy of the 68/95/99.997 percent (empirical) rule*\n",
    "---"
   ]
  },
  {
   "cell_type": "code",
   "execution_count": 1,
   "id": "muslim-cedar",
   "metadata": {},
   "outputs": [
    {
     "name": "stdout",
     "output_type": "stream",
     "text": [
      "np 1.20.0\n",
      "pd 1.2.1\n"
     ]
    }
   ],
   "source": [
    "import numpy as np\n",
    "import matplotlib.pyplot as plt\n",
    "import pandas as pd\n",
    "\n",
    "import math\n",
    "\n",
    "print(\"np {}\".format(np.__version__))\n",
    "print(\"pd {}\".format(pd.__version__))"
   ]
  },
  {
   "cell_type": "markdown",
   "id": "surface-palestine",
   "metadata": {},
   "source": [
    "## __Generating Data__\n",
    "---"
   ]
  },
  {
   "cell_type": "code",
   "execution_count": 5,
   "id": "finished-stamp",
   "metadata": {},
   "outputs": [
    {
     "data": {
      "text/plain": [
       "array([41., 46., 49., 47., 52., 44., 37., 45., 47., 43., 48., 50., 48.,\n",
       "       47., 48., 49., 51., 38., 46., 43., 48., 45., 39., 51., 44., 46.,\n",
       "       43., 51., 45., 51., 51., 41., 44., 54., 42., 42., 44., 50., 43.,\n",
       "       49., 41., 43., 47., 42., 51., 47., 45., 40., 47., 45., 45., 51.,\n",
       "       48., 40., 44., 48., 44., 40., 42., 42., 46., 46., 44., 53., 49.,\n",
       "       42., 41., 51., 37., 46., 45., 48., 45., 40., 47., 50., 48., 40.,\n",
       "       46., 41., 38., 48., 38., 45., 50., 52., 48., 43., 47., 38., 52.,\n",
       "       40., 39., 47., 46., 49., 43., 38., 54., 48., 48., 42., 44., 45.,\n",
       "       43., 44., 43., 49., 44., 43., 39., 43., 49., 40., 50., 44., 47.,\n",
       "       46., 43., 42., 48., 49., 47., 46., 41., 49., 45., 46., 50., 46.,\n",
       "       43., 39., 48., 53., 43., 50., 49., 43., 41., 42., 51., 48., 42.,\n",
       "       44., 46., 44., 51., 44., 51., 48., 46., 52., 48., 44., 52., 42.,\n",
       "       43., 49., 48., 47., 55., 47., 43., 49., 44., 45., 43., 41., 44.,\n",
       "       47., 46., 49., 49., 42., 48., 43., 49., 49., 45., 51., 48., 43.,\n",
       "       51., 47., 44., 36., 52., 46., 51., 40., 50., 54., 49., 45., 51.,\n",
       "       50., 42., 47., 46., 51., 35., 49., 44., 40., 50., 53., 48., 47.,\n",
       "       44., 49., 43., 40., 49., 51., 42., 41., 45., 52., 40., 45., 47.,\n",
       "       41., 40., 45., 40., 42., 46., 46., 52., 54., 45., 50., 50., 48.,\n",
       "       42., 45., 45., 44., 51., 47., 46., 49., 43., 48., 46., 46., 51.,\n",
       "       56., 45., 48., 38., 46., 45., 45., 44., 52., 45., 34., 47., 40.,\n",
       "       42., 45., 54., 42., 51., 54., 45., 44., 43., 52., 46., 47., 45.,\n",
       "       40., 53., 46., 44., 50., 51., 42., 46., 44., 38., 46., 37., 49.,\n",
       "       43., 42., 45., 45., 46., 47., 44., 50., 52., 53., 48., 39., 49.,\n",
       "       51.])"
      ]
     },
     "execution_count": 5,
     "metadata": {},
     "output_type": "execute_result"
    }
   ],
   "source": [
    "sample  = np.round(np.random.normal(46, 4, 300))\n",
    "sample"
   ]
  },
  {
   "cell_type": "markdown",
   "id": "korean-immigration",
   "metadata": {},
   "source": [
    "### Plotting samples"
   ]
  },
  {
   "cell_type": "code",
   "execution_count": 84,
   "id": "distributed-diesel",
   "metadata": {},
   "outputs": [],
   "source": [
    "def plot_distro(data, step = 1):\n",
    "    axis = np.arange(start=min(data), stop = max(data) + 1, step=step)\n",
    "    plt.hist(data, bins = axis)"
   ]
  },
  {
   "cell_type": "code",
   "execution_count": 85,
   "id": "stylish-barrel",
   "metadata": {},
   "outputs": [
    {
     "data": {
      "image/png": "[encoded data removed]",
      "text/plain": [
       "<Figure size 432x288 with 1 Axes>"
      ]
     },
     "metadata": {
      "needs_background": "light"
     },
     "output_type": "display_data"
    }
   ],
   "source": [
    "plot_distro(sample, step=1)"
   ]
  },
  {
   "cell_type": "markdown",
   "id": "traditional-attachment",
   "metadata": {},
   "source": [
    "## __Empirical Rule Models__\n",
    "---"
   ]
  },
  {
   "cell_type": "markdown",
   "id": "fatal-eligibility",
   "metadata": {},
   "source": [
    "### Brute force"
   ]
  },
  {
   "cell_type": "code",
   "execution_count": 26,
   "id": "dying-webcam",
   "metadata": {},
   "outputs": [],
   "source": [
    "from tqdm import tqdm\n",
    "def brute_force(data, spread = 1.0):\n",
    "    avg_count = len([\n",
    "        x for x in tqdm(data) \\\n",
    "        if data.mean() - data.std() * spread < x < data.mean() + data.std() * spread\n",
    "                    ])\n",
    "    return avg_count/len(data)"
   ]
  },
  {
   "cell_type": "code",
   "execution_count": 27,
   "id": "upset-taylor",
   "metadata": {},
   "outputs": [
    {
     "name": "stderr",
     "output_type": "stream",
     "text": [
      "100%|██████████| 300/300 [00:00<00:00, 7128.81it/s]\n"
     ]
    },
    {
     "data": {
      "text/plain": [
       "0.6566666666666666"
      ]
     },
     "execution_count": 27,
     "metadata": {},
     "output_type": "execute_result"
    }
   ],
   "source": [
    "brute_force(sample,1)"
   ]
  },
  {
   "cell_type": "markdown",
   "id": "rotary-walnut",
   "metadata": {},
   "source": [
    "### Straigh up (Int Model)"
   ]
  },
  {
   "cell_type": "code",
   "execution_count": 13,
   "id": "lonely-hunter",
   "metadata": {},
   "outputs": [],
   "source": [
    "r_map = [0.0,.68,.95,.997,.999]\n",
    "def r_emp(spread = 1.0):\n",
    "    if spread % 1.0 > 0.00001:\n",
    "        return np.nan\n",
    "    return r_map[int(spread)]"
   ]
  },
  {
   "cell_type": "code",
   "execution_count": 14,
   "id": "collective-passion",
   "metadata": {},
   "outputs": [
    {
     "ename": "IndexError",
     "evalue": "list index out of range",
     "output_type": "error",
     "traceback": [
      "\u001b[0;31m---------------------------------------------------------------------------\u001b[0m",
      "\u001b[0;31mIndexError\u001b[0m                                Traceback (most recent call last)",
      "\u001b[0;32m<ipython-input-14-14ffa23292df>\u001b[0m in \u001b[0;36m<module>\u001b[0;34m\u001b[0m\n\u001b[0;32m----> 1\u001b[0;31m \u001b[0mr_emp\u001b[0m\u001b[0;34m(\u001b[0m\u001b[0;36m10\u001b[0m\u001b[0;34m)\u001b[0m\u001b[0;34m\u001b[0m\u001b[0;34m\u001b[0m\u001b[0m\n\u001b[0m",
      "\u001b[0;32m<ipython-input-13-25cb5028723d>\u001b[0m in \u001b[0;36mr_emp\u001b[0;34m(spread)\u001b[0m\n\u001b[1;32m      3\u001b[0m     \u001b[0;32mif\u001b[0m \u001b[0mspread\u001b[0m \u001b[0;34m%\u001b[0m \u001b[0;36m1.0\u001b[0m \u001b[0;34m>\u001b[0m \u001b[0;36m0.00001\u001b[0m\u001b[0;34m:\u001b[0m\u001b[0;34m\u001b[0m\u001b[0;34m\u001b[0m\u001b[0m\n\u001b[1;32m      4\u001b[0m         \u001b[0;32mreturn\u001b[0m \u001b[0mnp\u001b[0m\u001b[0;34m.\u001b[0m\u001b[0mnan\u001b[0m\u001b[0;34m\u001b[0m\u001b[0;34m\u001b[0m\u001b[0m\n\u001b[0;32m----> 5\u001b[0;31m     \u001b[0;32mreturn\u001b[0m \u001b[0mr_map\u001b[0m\u001b[0;34m[\u001b[0m\u001b[0mint\u001b[0m\u001b[0;34m(\u001b[0m\u001b[0mspread\u001b[0m\u001b[0;34m)\u001b[0m\u001b[0;34m]\u001b[0m\u001b[0;34m\u001b[0m\u001b[0;34m\u001b[0m\u001b[0m\n\u001b[0m",
      "\u001b[0;31mIndexError\u001b[0m: list index out of range"
     ]
    }
   ],
   "source": [
    "r_emp(10)"
   ]
  },
  {
   "cell_type": "code",
   "execution_count": 15,
   "id": "mediterranean-piano",
   "metadata": {},
   "outputs": [
    {
     "data": {
      "text/plain": [
       "nan"
      ]
     },
     "execution_count": 15,
     "metadata": {},
     "output_type": "execute_result"
    }
   ],
   "source": [
    "r_emp(1.1)"
   ]
  },
  {
   "attachments": {
    "3015574d-9112-4e3d-bbdb-5e1ee04a1464.png": {
     "image/png": "[encoded data removed]"
    }
   },
   "cell_type": "markdown",
   "id": "designed-station",
   "metadata": {},
   "source": [
    "### Area under curve (Float Model)\n",
    "---\n",
    "Cumulative distribution function (CFD)  \n",
    "  \n",
    "![image.png](attachment:3015574d-9112-4e3d-bbdb-5e1ee04a1464.png)"
   ]
  },
  {
   "cell_type": "code",
   "execution_count": 68,
   "id": "broke-gnome",
   "metadata": {},
   "outputs": [],
   "source": [
    "from scipy.stats import norm "
   ]
  },
  {
   "cell_type": "code",
   "execution_count": 69,
   "id": "administrative-phenomenon",
   "metadata": {},
   "outputs": [],
   "source": [
    "def emp(spread=1.0):\n",
    "    mean = 0.0\n",
    "    std = 1.0\n",
    "    return norm.cdf(mean + spread*std, mean, std) - norm.cdf(mean - spread*std, mean, std)"
   ]
  },
  {
   "cell_type": "code",
   "execution_count": 70,
   "id": "figured-subsection",
   "metadata": {},
   "outputs": [
    {
     "data": {
      "text/plain": [
       "0.6826894921370859"
      ]
     },
     "execution_count": 70,
     "metadata": {},
     "output_type": "execute_result"
    }
   ],
   "source": [
    "emp(1.0)"
   ]
  },
  {
   "cell_type": "markdown",
   "id": "brown-salon",
   "metadata": {},
   "source": [
    "## __Testing__\n",
    "---"
   ]
  },
  {
   "cell_type": "markdown",
   "id": "seeing-martial",
   "metadata": {},
   "source": [
    "### On generated data"
   ]
  },
  {
   "cell_type": "code",
   "execution_count": 55,
   "id": "stainless-ottawa",
   "metadata": {},
   "outputs": [],
   "source": [
    "def comparison_table(sample):\n",
    "    data = []\n",
    "    for epoch in np.arange(.2,3.4,0.2):\n",
    "        data.append([epoch, brute_force(sample, epoch), r_emp(epoch), emp(epoch)])\n",
    "\n",
    "    return pd.DataFrame(data, columns = ['N', 'Brute Force','INT Model', 'FL Model'])\n",
    "\n",
    "def compute_accuracy(pdata):\n",
    "    pdata['INT Diff'] = pdata['Brute Force'] - pdata['INT Model']\n",
    "    pdata['FL Diff'] = pdata['Brute Force'] - pdata['FL Model'] \n",
    "    \n",
    "    print(pdata)\n",
    "    print(\"\\nInt Accuracy: {}%\".format(abs(pdata['INT Diff'].mean())*100))\n",
    "    print(\"Float Accuracy: {}%\".format(abs(pdata['FL Diff'].mean())*100))"
   ]
  },
  {
   "cell_type": "code",
   "execution_count": 59,
   "id": "electronic-argentina",
   "metadata": {},
   "outputs": [
    {
     "name": "stderr",
     "output_type": "stream",
     "text": [
      "100%|██████████| 3000/3000 [00:00<00:00, 13863.91it/s]\n",
      "100%|██████████| 3000/3000 [00:00<00:00, 13368.02it/s]\n",
      "100%|██████████| 3000/3000 [00:00<00:00, 13219.71it/s]\n",
      "100%|██████████| 3000/3000 [00:00<00:00, 13542.90it/s]\n",
      "100%|██████████| 3000/3000 [00:00<00:00, 12943.58it/s]\n",
      "100%|██████████| 3000/3000 [00:00<00:00, 13221.41it/s]\n",
      "100%|██████████| 3000/3000 [00:00<00:00, 12271.04it/s]\n",
      "100%|██████████| 3000/3000 [00:00<00:00, 11086.11it/s]\n",
      "100%|██████████| 3000/3000 [00:00<00:00, 12708.29it/s]\n",
      "100%|██████████| 3000/3000 [00:00<00:00, 12843.44it/s]\n",
      "100%|██████████| 3000/3000 [00:00<00:00, 12488.98it/s]\n",
      "100%|██████████| 3000/3000 [00:00<00:00, 12362.96it/s]\n",
      "100%|██████████| 3000/3000 [00:00<00:00, 12628.07it/s]\n",
      "100%|██████████| 3000/3000 [00:00<00:00, 12383.42it/s]\n",
      "100%|██████████| 3000/3000 [00:00<00:00, 12407.10it/s]\n",
      "100%|██████████| 3000/3000 [00:00<00:00, 11808.18it/s]\n"
     ]
    },
    {
     "data": {
      "text/html": [
       "<div>\n",
       "<style scoped>\n",
       "    .dataframe tbody tr th:only-of-type {\n",
       "        vertical-align: middle;\n",
       "    }\n",
       "\n",
       "    .dataframe tbody tr th {\n",
       "        vertical-align: top;\n",
       "    }\n",
       "\n",
       "    .dataframe thead th {\n",
       "        text-align: right;\n",
       "    }\n",
       "</style>\n",
       "<table border=\"1\" class=\"dataframe\">\n",
       "  <thead>\n",
       "    <tr style=\"text-align: right;\">\n",
       "      <th></th>\n",
       "      <th>N</th>\n",
       "      <th>Brute Force</th>\n",
       "      <th>INT Model</th>\n",
       "      <th>FL Model</th>\n",
       "    </tr>\n",
       "  </thead>\n",
       "  <tbody>\n",
       "    <tr>\n",
       "      <th>0</th>\n",
       "      <td>0.2</td>\n",
       "      <td>0.100333</td>\n",
       "      <td>NaN</td>\n",
       "      <td>0.158519</td>\n",
       "    </tr>\n",
       "    <tr>\n",
       "      <th>1</th>\n",
       "      <td>0.4</td>\n",
       "      <td>0.289000</td>\n",
       "      <td>NaN</td>\n",
       "      <td>0.310843</td>\n",
       "    </tr>\n",
       "    <tr>\n",
       "      <th>2</th>\n",
       "      <td>0.6</td>\n",
       "      <td>0.476000</td>\n",
       "      <td>NaN</td>\n",
       "      <td>0.451494</td>\n",
       "    </tr>\n",
       "    <tr>\n",
       "      <th>3</th>\n",
       "      <td>0.8</td>\n",
       "      <td>0.622667</td>\n",
       "      <td>NaN</td>\n",
       "      <td>0.576289</td>\n",
       "    </tr>\n",
       "    <tr>\n",
       "      <th>4</th>\n",
       "      <td>1.0</td>\n",
       "      <td>0.686000</td>\n",
       "      <td>0.680</td>\n",
       "      <td>0.682689</td>\n",
       "    </tr>\n",
       "    <tr>\n",
       "      <th>5</th>\n",
       "      <td>1.2</td>\n",
       "      <td>0.739667</td>\n",
       "      <td>NaN</td>\n",
       "      <td>0.769861</td>\n",
       "    </tr>\n",
       "    <tr>\n",
       "      <th>6</th>\n",
       "      <td>1.4</td>\n",
       "      <td>0.830000</td>\n",
       "      <td>NaN</td>\n",
       "      <td>0.838487</td>\n",
       "    </tr>\n",
       "    <tr>\n",
       "      <th>7</th>\n",
       "      <td>1.6</td>\n",
       "      <td>0.898667</td>\n",
       "      <td>NaN</td>\n",
       "      <td>0.890401</td>\n",
       "    </tr>\n",
       "    <tr>\n",
       "      <th>8</th>\n",
       "      <td>1.8</td>\n",
       "      <td>0.940000</td>\n",
       "      <td>NaN</td>\n",
       "      <td>0.928139</td>\n",
       "    </tr>\n",
       "    <tr>\n",
       "      <th>9</th>\n",
       "      <td>2.0</td>\n",
       "      <td>0.952000</td>\n",
       "      <td>0.950</td>\n",
       "      <td>0.954500</td>\n",
       "    </tr>\n",
       "    <tr>\n",
       "      <th>10</th>\n",
       "      <td>2.2</td>\n",
       "      <td>0.967333</td>\n",
       "      <td>NaN</td>\n",
       "      <td>0.972193</td>\n",
       "    </tr>\n",
       "    <tr>\n",
       "      <th>11</th>\n",
       "      <td>2.4</td>\n",
       "      <td>0.981667</td>\n",
       "      <td>NaN</td>\n",
       "      <td>0.983605</td>\n",
       "    </tr>\n",
       "    <tr>\n",
       "      <th>12</th>\n",
       "      <td>2.6</td>\n",
       "      <td>0.992000</td>\n",
       "      <td>NaN</td>\n",
       "      <td>0.990678</td>\n",
       "    </tr>\n",
       "    <tr>\n",
       "      <th>13</th>\n",
       "      <td>2.8</td>\n",
       "      <td>0.997667</td>\n",
       "      <td>NaN</td>\n",
       "      <td>0.994890</td>\n",
       "    </tr>\n",
       "    <tr>\n",
       "      <th>14</th>\n",
       "      <td>3.0</td>\n",
       "      <td>0.998000</td>\n",
       "      <td>0.997</td>\n",
       "      <td>0.997300</td>\n",
       "    </tr>\n",
       "    <tr>\n",
       "      <th>15</th>\n",
       "      <td>3.2</td>\n",
       "      <td>0.999000</td>\n",
       "      <td>NaN</td>\n",
       "      <td>0.998626</td>\n",
       "    </tr>\n",
       "  </tbody>\n",
       "</table>\n",
       "</div>"
      ],
      "text/plain": [
       "      N  Brute Force  INT Model  FL Model\n",
       "0   0.2     0.100333        NaN  0.158519\n",
       "1   0.4     0.289000        NaN  0.310843\n",
       "2   0.6     0.476000        NaN  0.451494\n",
       "3   0.8     0.622667        NaN  0.576289\n",
       "4   1.0     0.686000      0.680  0.682689\n",
       "5   1.2     0.739667        NaN  0.769861\n",
       "6   1.4     0.830000        NaN  0.838487\n",
       "7   1.6     0.898667        NaN  0.890401\n",
       "8   1.8     0.940000        NaN  0.928139\n",
       "9   2.0     0.952000      0.950  0.954500\n",
       "10  2.2     0.967333        NaN  0.972193\n",
       "11  2.4     0.981667        NaN  0.983605\n",
       "12  2.6     0.992000        NaN  0.990678\n",
       "13  2.8     0.997667        NaN  0.994890\n",
       "14  3.0     0.998000      0.997  0.997300\n",
       "15  3.2     0.999000        NaN  0.998626"
      ]
     },
     "execution_count": 59,
     "metadata": {},
     "output_type": "execute_result"
    },
    {
     "data": {
      "image/png": "[encoded data removed]",
      "text/plain": [
       "<Figure size 432x288 with 1 Axes>"
      ]
     },
     "metadata": {
      "needs_background": "light"
     },
     "output_type": "display_data"
    }
   ],
   "source": [
    "sample  = np.round(np.random.normal(46, 4, 3000))\n",
    "plot_distro(sample)\n",
    "    \n",
    "pdata = comparison_table(sample)\n",
    "pdata"
   ]
  },
  {
   "cell_type": "code",
   "execution_count": 60,
   "id": "neutral-moses",
   "metadata": {},
   "outputs": [
    {
     "name": "stdout",
     "output_type": "stream",
     "text": [
      "      N  Brute Force  INT Model  FL Model  INT Diff   FL Diff\n",
      "0   0.2     0.100333        NaN  0.158519       NaN -0.058186\n",
      "1   0.4     0.289000        NaN  0.310843       NaN -0.021843\n",
      "2   0.6     0.476000        NaN  0.451494       NaN  0.024506\n",
      "3   0.8     0.622667        NaN  0.576289       NaN  0.046377\n",
      "4   1.0     0.686000      0.680  0.682689     0.006  0.003311\n",
      "5   1.2     0.739667        NaN  0.769861       NaN -0.030194\n",
      "6   1.4     0.830000        NaN  0.838487       NaN -0.008487\n",
      "7   1.6     0.898667        NaN  0.890401       NaN  0.008265\n",
      "8   1.8     0.940000        NaN  0.928139       NaN  0.011861\n",
      "9   2.0     0.952000      0.950  0.954500     0.002 -0.002500\n",
      "10  2.2     0.967333        NaN  0.972193       NaN -0.004860\n",
      "11  2.4     0.981667        NaN  0.983605       NaN -0.001938\n",
      "12  2.6     0.992000        NaN  0.990678       NaN  0.001322\n",
      "13  2.8     0.997667        NaN  0.994890       NaN  0.002777\n",
      "14  3.0     0.998000      0.997  0.997300     0.001  0.000700\n",
      "15  3.2     0.999000        NaN  0.998626       NaN  0.000374\n",
      "\n",
      "Int Accuracy: 0.30000000000000027%\n",
      "Float Accuracy: 0.17821588508212838%\n"
     ]
    }
   ],
   "source": [
    "compute_accuracy(pdata)"
   ]
  },
  {
   "cell_type": "markdown",
   "id": "intimate-ordinance",
   "metadata": {},
   "source": [
    "## __Getting Real Data__\n",
    "---"
   ]
  },
  {
   "cell_type": "code",
   "execution_count": 2,
   "id": "miniature-geometry",
   "metadata": {},
   "outputs": [
    {
     "data": {
      "text/html": [
       "<div>\n",
       "<style scoped>\n",
       "    .dataframe tbody tr th:only-of-type {\n",
       "        vertical-align: middle;\n",
       "    }\n",
       "\n",
       "    .dataframe tbody tr th {\n",
       "        vertical-align: top;\n",
       "    }\n",
       "\n",
       "    .dataframe thead th {\n",
       "        text-align: right;\n",
       "    }\n",
       "</style>\n",
       "<table border=\"1\" class=\"dataframe\">\n",
       "  <thead>\n",
       "    <tr style=\"text-align: right;\">\n",
       "      <th></th>\n",
       "      <th>Unnamed: 0</th>\n",
       "      <th>Date</th>\n",
       "      <th>AveragePrice</th>\n",
       "      <th>Total Volume</th>\n",
       "      <th>4046</th>\n",
       "      <th>4225</th>\n",
       "      <th>4770</th>\n",
       "      <th>Total Bags</th>\n",
       "      <th>Small Bags</th>\n",
       "      <th>Large Bags</th>\n",
       "      <th>XLarge Bags</th>\n",
       "      <th>type</th>\n",
       "      <th>year</th>\n",
       "      <th>region</th>\n",
       "    </tr>\n",
       "  </thead>\n",
       "  <tbody>\n",
       "    <tr>\n",
       "      <th>0</th>\n",
       "      <td>0</td>\n",
       "      <td>2015-12-27</td>\n",
       "      <td>1.33</td>\n",
       "      <td>64236.62</td>\n",
       "      <td>1036.74</td>\n",
       "      <td>54454.85</td>\n",
       "      <td>48.16</td>\n",
       "      <td>8696.87</td>\n",
       "      <td>8603.62</td>\n",
       "      <td>93.25</td>\n",
       "      <td>0.0</td>\n",
       "      <td>conventional</td>\n",
       "      <td>2015</td>\n",
       "      <td>Albany</td>\n",
       "    </tr>\n",
       "    <tr>\n",
       "      <th>1</th>\n",
       "      <td>1</td>\n",
       "      <td>2015-12-20</td>\n",
       "      <td>1.35</td>\n",
       "      <td>54876.98</td>\n",
       "      <td>674.28</td>\n",
       "      <td>44638.81</td>\n",
       "      <td>58.33</td>\n",
       "      <td>9505.56</td>\n",
       "      <td>9408.07</td>\n",
       "      <td>97.49</td>\n",
       "      <td>0.0</td>\n",
       "      <td>conventional</td>\n",
       "      <td>2015</td>\n",
       "      <td>Albany</td>\n",
       "    </tr>\n",
       "    <tr>\n",
       "      <th>2</th>\n",
       "      <td>2</td>\n",
       "      <td>2015-12-13</td>\n",
       "      <td>0.93</td>\n",
       "      <td>118220.22</td>\n",
       "      <td>794.70</td>\n",
       "      <td>109149.67</td>\n",
       "      <td>130.50</td>\n",
       "      <td>8145.35</td>\n",
       "      <td>8042.21</td>\n",
       "      <td>103.14</td>\n",
       "      <td>0.0</td>\n",
       "      <td>conventional</td>\n",
       "      <td>2015</td>\n",
       "      <td>Albany</td>\n",
       "    </tr>\n",
       "    <tr>\n",
       "      <th>3</th>\n",
       "      <td>3</td>\n",
       "      <td>2015-12-06</td>\n",
       "      <td>1.08</td>\n",
       "      <td>78992.15</td>\n",
       "      <td>1132.00</td>\n",
       "      <td>71976.41</td>\n",
       "      <td>72.58</td>\n",
       "      <td>5811.16</td>\n",
       "      <td>5677.40</td>\n",
       "      <td>133.76</td>\n",
       "      <td>0.0</td>\n",
       "      <td>conventional</td>\n",
       "      <td>2015</td>\n",
       "      <td>Albany</td>\n",
       "    </tr>\n",
       "    <tr>\n",
       "      <th>4</th>\n",
       "      <td>4</td>\n",
       "      <td>2015-11-29</td>\n",
       "      <td>1.28</td>\n",
       "      <td>51039.60</td>\n",
       "      <td>941.48</td>\n",
       "      <td>43838.39</td>\n",
       "      <td>75.78</td>\n",
       "      <td>6183.95</td>\n",
       "      <td>5986.26</td>\n",
       "      <td>197.69</td>\n",
       "      <td>0.0</td>\n",
       "      <td>conventional</td>\n",
       "      <td>2015</td>\n",
       "      <td>Albany</td>\n",
       "    </tr>\n",
       "    <tr>\n",
       "      <th>...</th>\n",
       "      <td>...</td>\n",
       "      <td>...</td>\n",
       "      <td>...</td>\n",
       "      <td>...</td>\n",
       "      <td>...</td>\n",
       "      <td>...</td>\n",
       "      <td>...</td>\n",
       "      <td>...</td>\n",
       "      <td>...</td>\n",
       "      <td>...</td>\n",
       "      <td>...</td>\n",
       "      <td>...</td>\n",
       "      <td>...</td>\n",
       "      <td>...</td>\n",
       "    </tr>\n",
       "    <tr>\n",
       "      <th>18244</th>\n",
       "      <td>7</td>\n",
       "      <td>2018-02-04</td>\n",
       "      <td>1.63</td>\n",
       "      <td>17074.83</td>\n",
       "      <td>2046.96</td>\n",
       "      <td>1529.20</td>\n",
       "      <td>0.00</td>\n",
       "      <td>13498.67</td>\n",
       "      <td>13066.82</td>\n",
       "      <td>431.85</td>\n",
       "      <td>0.0</td>\n",
       "      <td>organic</td>\n",
       "      <td>2018</td>\n",
       "      <td>WestTexNewMexico</td>\n",
       "    </tr>\n",
       "    <tr>\n",
       "      <th>18245</th>\n",
       "      <td>8</td>\n",
       "      <td>2018-01-28</td>\n",
       "      <td>1.71</td>\n",
       "      <td>13888.04</td>\n",
       "      <td>1191.70</td>\n",
       "      <td>3431.50</td>\n",
       "      <td>0.00</td>\n",
       "      <td>9264.84</td>\n",
       "      <td>8940.04</td>\n",
       "      <td>324.80</td>\n",
       "      <td>0.0</td>\n",
       "      <td>organic</td>\n",
       "      <td>2018</td>\n",
       "      <td>WestTexNewMexico</td>\n",
       "    </tr>\n",
       "    <tr>\n",
       "      <th>18246</th>\n",
       "      <td>9</td>\n",
       "      <td>2018-01-21</td>\n",
       "      <td>1.87</td>\n",
       "      <td>13766.76</td>\n",
       "      <td>1191.92</td>\n",
       "      <td>2452.79</td>\n",
       "      <td>727.94</td>\n",
       "      <td>9394.11</td>\n",
       "      <td>9351.80</td>\n",
       "      <td>42.31</td>\n",
       "      <td>0.0</td>\n",
       "      <td>organic</td>\n",
       "      <td>2018</td>\n",
       "      <td>WestTexNewMexico</td>\n",
       "    </tr>\n",
       "    <tr>\n",
       "      <th>18247</th>\n",
       "      <td>10</td>\n",
       "      <td>2018-01-14</td>\n",
       "      <td>1.93</td>\n",
       "      <td>16205.22</td>\n",
       "      <td>1527.63</td>\n",
       "      <td>2981.04</td>\n",
       "      <td>727.01</td>\n",
       "      <td>10969.54</td>\n",
       "      <td>10919.54</td>\n",
       "      <td>50.00</td>\n",
       "      <td>0.0</td>\n",
       "      <td>organic</td>\n",
       "      <td>2018</td>\n",
       "      <td>WestTexNewMexico</td>\n",
       "    </tr>\n",
       "    <tr>\n",
       "      <th>18248</th>\n",
       "      <td>11</td>\n",
       "      <td>2018-01-07</td>\n",
       "      <td>1.62</td>\n",
       "      <td>17489.58</td>\n",
       "      <td>2894.77</td>\n",
       "      <td>2356.13</td>\n",
       "      <td>224.53</td>\n",
       "      <td>12014.15</td>\n",
       "      <td>11988.14</td>\n",
       "      <td>26.01</td>\n",
       "      <td>0.0</td>\n",
       "      <td>organic</td>\n",
       "      <td>2018</td>\n",
       "      <td>WestTexNewMexico</td>\n",
       "    </tr>\n",
       "  </tbody>\n",
       "</table>\n",
       "<p>18249 rows × 14 columns</p>\n",
       "</div>"
      ],
      "text/plain": [
       "       Unnamed: 0        Date  AveragePrice  Total Volume     4046       4225  \\\n",
       "0               0  2015-12-27          1.33      64236.62  1036.74   54454.85   \n",
       "1               1  2015-12-20          1.35      54876.98   674.28   44638.81   \n",
       "2               2  2015-12-13          0.93     118220.22   794.70  109149.67   \n",
       "3               3  2015-12-06          1.08      78992.15  1132.00   71976.41   \n",
       "4               4  2015-11-29          1.28      51039.60   941.48   43838.39   \n",
       "...           ...         ...           ...           ...      ...        ...   \n",
       "18244           7  2018-02-04          1.63      17074.83  2046.96    1529.20   \n",
       "18245           8  2018-01-28          1.71      13888.04  1191.70    3431.50   \n",
       "18246           9  2018-01-21          1.87      13766.76  1191.92    2452.79   \n",
       "18247          10  2018-01-14          1.93      16205.22  1527.63    2981.04   \n",
       "18248          11  2018-01-07          1.62      17489.58  2894.77    2356.13   \n",
       "\n",
       "         4770  Total Bags  Small Bags  Large Bags  XLarge Bags          type  \\\n",
       "0       48.16     8696.87     8603.62       93.25          0.0  conventional   \n",
       "1       58.33     9505.56     9408.07       97.49          0.0  conventional   \n",
       "2      130.50     8145.35     8042.21      103.14          0.0  conventional   \n",
       "3       72.58     5811.16     5677.40      133.76          0.0  conventional   \n",
       "4       75.78     6183.95     5986.26      197.69          0.0  conventional   \n",
       "...       ...         ...         ...         ...          ...           ...   \n",
       "18244    0.00    13498.67    13066.82      431.85          0.0       organic   \n",
       "18245    0.00     9264.84     8940.04      324.80          0.0       organic   \n",
       "18246  727.94     9394.11     9351.80       42.31          0.0       organic   \n",
       "18247  727.01    10969.54    10919.54       50.00          0.0       organic   \n",
       "18248  224.53    12014.15    11988.14       26.01          0.0       organic   \n",
       "\n",
       "       year            region  \n",
       "0      2015            Albany  \n",
       "1      2015            Albany  \n",
       "2      2015            Albany  \n",
       "3      2015            Albany  \n",
       "4      2015            Albany  \n",
       "...     ...               ...  \n",
       "18244  2018  WestTexNewMexico  \n",
       "18245  2018  WestTexNewMexico  \n",
       "18246  2018  WestTexNewMexico  \n",
       "18247  2018  WestTexNewMexico  \n",
       "18248  2018  WestTexNewMexico  \n",
       "\n",
       "[18249 rows x 14 columns]"
      ]
     },
     "execution_count": 2,
     "metadata": {},
     "output_type": "execute_result"
    }
   ],
   "source": [
    "rdata = pd.read_csv(\"avocado.csv\")\n",
    "rdata"
   ]
  },
  {
   "cell_type": "code",
   "execution_count": 62,
   "id": "general-screening",
   "metadata": {},
   "outputs": [
    {
     "data": {
      "text/html": [
       "<div>\n",
       "<style scoped>\n",
       "    .dataframe tbody tr th:only-of-type {\n",
       "        vertical-align: middle;\n",
       "    }\n",
       "\n",
       "    .dataframe tbody tr th {\n",
       "        vertical-align: top;\n",
       "    }\n",
       "\n",
       "    .dataframe thead th {\n",
       "        text-align: right;\n",
       "    }\n",
       "</style>\n",
       "<table border=\"1\" class=\"dataframe\">\n",
       "  <thead>\n",
       "    <tr style=\"text-align: right;\">\n",
       "      <th></th>\n",
       "      <th>AveragePrice</th>\n",
       "    </tr>\n",
       "  </thead>\n",
       "  <tbody>\n",
       "    <tr>\n",
       "      <th>0</th>\n",
       "      <td>1.33</td>\n",
       "    </tr>\n",
       "    <tr>\n",
       "      <th>1</th>\n",
       "      <td>1.35</td>\n",
       "    </tr>\n",
       "    <tr>\n",
       "      <th>2</th>\n",
       "      <td>0.93</td>\n",
       "    </tr>\n",
       "    <tr>\n",
       "      <th>3</th>\n",
       "      <td>1.08</td>\n",
       "    </tr>\n",
       "    <tr>\n",
       "      <th>4</th>\n",
       "      <td>1.28</td>\n",
       "    </tr>\n",
       "    <tr>\n",
       "      <th>...</th>\n",
       "      <td>...</td>\n",
       "    </tr>\n",
       "    <tr>\n",
       "      <th>18244</th>\n",
       "      <td>1.63</td>\n",
       "    </tr>\n",
       "    <tr>\n",
       "      <th>18245</th>\n",
       "      <td>1.71</td>\n",
       "    </tr>\n",
       "    <tr>\n",
       "      <th>18246</th>\n",
       "      <td>1.87</td>\n",
       "    </tr>\n",
       "    <tr>\n",
       "      <th>18247</th>\n",
       "      <td>1.93</td>\n",
       "    </tr>\n",
       "    <tr>\n",
       "      <th>18248</th>\n",
       "      <td>1.62</td>\n",
       "    </tr>\n",
       "  </tbody>\n",
       "</table>\n",
       "<p>18249 rows × 1 columns</p>\n",
       "</div>"
      ],
      "text/plain": [
       "       AveragePrice\n",
       "0              1.33\n",
       "1              1.35\n",
       "2              0.93\n",
       "3              1.08\n",
       "4              1.28\n",
       "...             ...\n",
       "18244          1.63\n",
       "18245          1.71\n",
       "18246          1.87\n",
       "18247          1.93\n",
       "18248          1.62\n",
       "\n",
       "[18249 rows x 1 columns]"
      ]
     },
     "execution_count": 62,
     "metadata": {},
     "output_type": "execute_result"
    }
   ],
   "source": [
    "rdata = rdata[['AveragePrice']]\n",
    "rdata = rdata.dropna()\n",
    "rdata"
   ]
  },
  {
   "cell_type": "code",
   "execution_count": 63,
   "id": "promising-princeton",
   "metadata": {},
   "outputs": [
    {
     "data": {
      "image/png": "[encoded data removed]",
      "text/plain": [
       "<Figure size 432x288 with 1 Axes>"
      ]
     },
     "metadata": {
      "needs_background": "light"
     },
     "output_type": "display_data"
    }
   ],
   "source": [
    "plot_distro(np.asarray(rdata['AveragePrice']), .1)"
   ]
  },
  {
   "cell_type": "markdown",
   "id": "surprised-latvia",
   "metadata": {},
   "source": [
    "### Testing the real data"
   ]
  },
  {
   "cell_type": "code",
   "execution_count": 66,
   "id": "knowing-charity",
   "metadata": {},
   "outputs": [
    {
     "name": "stderr",
     "output_type": "stream",
     "text": [
      "100%|██████████| 18249/18249 [00:08<00:00, 2078.77it/s]\n",
      "100%|██████████| 18249/18249 [00:09<00:00, 1989.86it/s]\n",
      "100%|██████████| 18249/18249 [00:09<00:00, 1839.91it/s]\n",
      "100%|██████████| 18249/18249 [00:11<00:00, 1554.73it/s]\n",
      "100%|██████████| 18249/18249 [00:13<00:00, 1386.10it/s]\n",
      "100%|██████████| 18249/18249 [00:11<00:00, 1562.85it/s]\n",
      "100%|██████████| 18249/18249 [00:11<00:00, 1525.67it/s]\n",
      "100%|██████████| 18249/18249 [00:11<00:00, 1586.53it/s]\n",
      "100%|██████████| 18249/18249 [00:12<00:00, 1511.76it/s]\n",
      "100%|██████████| 18249/18249 [00:13<00:00, 1332.70it/s]\n",
      "100%|██████████| 18249/18249 [00:12<00:00, 1423.23it/s]\n",
      "100%|██████████| 18249/18249 [00:12<00:00, 1512.73it/s]\n",
      "100%|██████████| 18249/18249 [00:12<00:00, 1505.36it/s]\n",
      "100%|██████████| 18249/18249 [00:11<00:00, 1530.92it/s]\n",
      "100%|██████████| 18249/18249 [00:12<00:00, 1507.61it/s]\n",
      "100%|██████████| 18249/18249 [00:12<00:00, 1502.71it/s]\n"
     ]
    },
    {
     "data": {
      "text/html": [
       "<div>\n",
       "<style scoped>\n",
       "    .dataframe tbody tr th:only-of-type {\n",
       "        vertical-align: middle;\n",
       "    }\n",
       "\n",
       "    .dataframe tbody tr th {\n",
       "        vertical-align: top;\n",
       "    }\n",
       "\n",
       "    .dataframe thead th {\n",
       "        text-align: right;\n",
       "    }\n",
       "</style>\n",
       "<table border=\"1\" class=\"dataframe\">\n",
       "  <thead>\n",
       "    <tr style=\"text-align: right;\">\n",
       "      <th></th>\n",
       "      <th>N</th>\n",
       "      <th>Brute Force</th>\n",
       "      <th>INT Model</th>\n",
       "      <th>FL Model</th>\n",
       "    </tr>\n",
       "  </thead>\n",
       "  <tbody>\n",
       "    <tr>\n",
       "      <th>0</th>\n",
       "      <td>0.2</td>\n",
       "      <td>0.144391</td>\n",
       "      <td>NaN</td>\n",
       "      <td>0.158519</td>\n",
       "    </tr>\n",
       "    <tr>\n",
       "      <th>1</th>\n",
       "      <td>0.4</td>\n",
       "      <td>0.283358</td>\n",
       "      <td>NaN</td>\n",
       "      <td>0.310843</td>\n",
       "    </tr>\n",
       "    <tr>\n",
       "      <th>2</th>\n",
       "      <td>0.6</td>\n",
       "      <td>0.422434</td>\n",
       "      <td>NaN</td>\n",
       "      <td>0.451494</td>\n",
       "    </tr>\n",
       "    <tr>\n",
       "      <th>3</th>\n",
       "      <td>0.8</td>\n",
       "      <td>0.552414</td>\n",
       "      <td>NaN</td>\n",
       "      <td>0.576289</td>\n",
       "    </tr>\n",
       "    <tr>\n",
       "      <th>4</th>\n",
       "      <td>1.0</td>\n",
       "      <td>0.673736</td>\n",
       "      <td>0.680</td>\n",
       "      <td>0.682689</td>\n",
       "    </tr>\n",
       "    <tr>\n",
       "      <th>5</th>\n",
       "      <td>1.2</td>\n",
       "      <td>0.785468</td>\n",
       "      <td>NaN</td>\n",
       "      <td>0.769861</td>\n",
       "    </tr>\n",
       "    <tr>\n",
       "      <th>6</th>\n",
       "      <td>1.4</td>\n",
       "      <td>0.855554</td>\n",
       "      <td>NaN</td>\n",
       "      <td>0.838487</td>\n",
       "    </tr>\n",
       "    <tr>\n",
       "      <th>7</th>\n",
       "      <td>1.6</td>\n",
       "      <td>0.908159</td>\n",
       "      <td>NaN</td>\n",
       "      <td>0.890401</td>\n",
       "    </tr>\n",
       "    <tr>\n",
       "      <th>8</th>\n",
       "      <td>1.8</td>\n",
       "      <td>0.942572</td>\n",
       "      <td>NaN</td>\n",
       "      <td>0.928139</td>\n",
       "    </tr>\n",
       "    <tr>\n",
       "      <th>9</th>\n",
       "      <td>2.0</td>\n",
       "      <td>0.961697</td>\n",
       "      <td>0.950</td>\n",
       "      <td>0.954500</td>\n",
       "    </tr>\n",
       "    <tr>\n",
       "      <th>10</th>\n",
       "      <td>2.2</td>\n",
       "      <td>0.973478</td>\n",
       "      <td>NaN</td>\n",
       "      <td>0.972193</td>\n",
       "    </tr>\n",
       "    <tr>\n",
       "      <th>11</th>\n",
       "      <td>2.4</td>\n",
       "      <td>0.982794</td>\n",
       "      <td>NaN</td>\n",
       "      <td>0.983605</td>\n",
       "    </tr>\n",
       "    <tr>\n",
       "      <th>12</th>\n",
       "      <td>2.6</td>\n",
       "      <td>0.987232</td>\n",
       "      <td>NaN</td>\n",
       "      <td>0.990678</td>\n",
       "    </tr>\n",
       "    <tr>\n",
       "      <th>13</th>\n",
       "      <td>2.8</td>\n",
       "      <td>0.989534</td>\n",
       "      <td>NaN</td>\n",
       "      <td>0.994890</td>\n",
       "    </tr>\n",
       "    <tr>\n",
       "      <th>14</th>\n",
       "      <td>3.0</td>\n",
       "      <td>0.992822</td>\n",
       "      <td>0.997</td>\n",
       "      <td>0.997300</td>\n",
       "    </tr>\n",
       "    <tr>\n",
       "      <th>15</th>\n",
       "      <td>3.2</td>\n",
       "      <td>0.994794</td>\n",
       "      <td>NaN</td>\n",
       "      <td>0.998626</td>\n",
       "    </tr>\n",
       "  </tbody>\n",
       "</table>\n",
       "</div>"
      ],
      "text/plain": [
       "      N  Brute Force  INT Model  FL Model\n",
       "0   0.2     0.144391        NaN  0.158519\n",
       "1   0.4     0.283358        NaN  0.310843\n",
       "2   0.6     0.422434        NaN  0.451494\n",
       "3   0.8     0.552414        NaN  0.576289\n",
       "4   1.0     0.673736      0.680  0.682689\n",
       "5   1.2     0.785468        NaN  0.769861\n",
       "6   1.4     0.855554        NaN  0.838487\n",
       "7   1.6     0.908159        NaN  0.890401\n",
       "8   1.8     0.942572        NaN  0.928139\n",
       "9   2.0     0.961697      0.950  0.954500\n",
       "10  2.2     0.973478        NaN  0.972193\n",
       "11  2.4     0.982794        NaN  0.983605\n",
       "12  2.6     0.987232        NaN  0.990678\n",
       "13  2.8     0.989534        NaN  0.994890\n",
       "14  3.0     0.992822      0.997  0.997300\n",
       "15  3.2     0.994794        NaN  0.998626"
      ]
     },
     "execution_count": 66,
     "metadata": {},
     "output_type": "execute_result"
    }
   ],
   "source": [
    "table = comparison_table(rdata[\"AveragePrice\"])\n",
    "table"
   ]
  },
  {
   "cell_type": "code",
   "execution_count": 67,
   "id": "sporting-plasma",
   "metadata": {},
   "outputs": [
    {
     "name": "stdout",
     "output_type": "stream",
     "text": [
      "      N  Brute Force  INT Model  FL Model  INT Diff   FL Diff\n",
      "0   0.2     0.144391        NaN  0.158519       NaN -0.014128\n",
      "1   0.4     0.283358        NaN  0.310843       NaN -0.027485\n",
      "2   0.6     0.422434        NaN  0.451494       NaN -0.029060\n",
      "3   0.8     0.552414        NaN  0.576289       NaN -0.023875\n",
      "4   1.0     0.673736      0.680  0.682689 -0.006264 -0.008954\n",
      "5   1.2     0.785468        NaN  0.769861       NaN  0.015607\n",
      "6   1.4     0.855554        NaN  0.838487       NaN  0.017067\n",
      "7   1.6     0.908159        NaN  0.890401       NaN  0.017758\n",
      "8   1.8     0.942572        NaN  0.928139       NaN  0.014433\n",
      "9   2.0     0.961697      0.950  0.954500  0.011697  0.007197\n",
      "10  2.2     0.973478        NaN  0.972193       NaN  0.001285\n",
      "11  2.4     0.982794        NaN  0.983605       NaN -0.000811\n",
      "12  2.6     0.987232        NaN  0.990678       NaN -0.003445\n",
      "13  2.8     0.989534        NaN  0.994890       NaN -0.005356\n",
      "14  3.0     0.992822      0.997  0.997300 -0.004178 -0.004479\n",
      "15  3.2     0.994794        NaN  0.998626       NaN -0.003831\n",
      "\n",
      "Int Accuracy: 0.04178676457157193%\n",
      "Float Accuracy: 0.3004931331505159%\n"
     ]
    }
   ],
   "source": [
    "compute_accuracy(table)"
   ]
  },
  {
   "cell_type": "markdown",
   "id": "pacific-portal",
   "metadata": {},
   "source": [
    "## The Realest of the realest\n",
    "---\n",
    "\n",
    "**500 real rolls of a dice pair done by me**"
   ]
  },
  {
   "cell_type": "code",
   "execution_count": null,
   "id": "apparent-philadelphia",
   "metadata": {},
   "outputs": [],
   "source": [
    "data = pd.readcsv(\"dice.cvg\")\n",
    "data"
   ]
  },
  {
   "cell_type": "code",
   "execution_count": null,
   "id": "eligible-background",
   "metadata": {},
   "outputs": [],
   "source": [
    "data[\"Sum\"] = data[\"Die 1\"] + data[\"Die 2\""
   ]
  },
  {
   "cell_type": "code",
   "execution_count": 87,
   "id": "thorough-wesley",
   "metadata": {},
   "outputs": [
    {
     "ename": "NameError",
     "evalue": "name 'data' is not defined",
     "output_type": "error",
     "traceback": [
      "\u001b[0;31m---------------------------------------------------------------------------\u001b[0m",
      "\u001b[0;31mNameError\u001b[0m                                 Traceback (most recent call last)",
      "\u001b[0;32m<ipython-input-87-46c42d7b9650>\u001b[0m in \u001b[0;36m<module>\u001b[0;34m\u001b[0m\n\u001b[1;32m      2\u001b[0m \u001b[0;34m\u001b[0m\u001b[0m\n\u001b[1;32m      3\u001b[0m \u001b[0mplt\u001b[0m\u001b[0;34m.\u001b[0m\u001b[0msubplot\u001b[0m\u001b[0;34m(\u001b[0m\u001b[0;36m2\u001b[0m\u001b[0;34m,\u001b[0m\u001b[0;36m2\u001b[0m\u001b[0;34m,\u001b[0m\u001b[0;36m1\u001b[0m\u001b[0;34m)\u001b[0m\u001b[0;34m\u001b[0m\u001b[0;34m\u001b[0m\u001b[0m\n\u001b[0;32m----> 4\u001b[0;31m \u001b[0mplot_distro\u001b[0m\u001b[0;34m(\u001b[0m\u001b[0mdata\u001b[0m\u001b[0;34m[\u001b[0m\u001b[0;34m\"Die 1\"\u001b[0m\u001b[0;34m]\u001b[0m\u001b[0;34m)\u001b[0m\u001b[0;34m\u001b[0m\u001b[0;34m\u001b[0m\u001b[0m\n\u001b[0m\u001b[1;32m      5\u001b[0m \u001b[0mplt\u001b[0m\u001b[0;34m.\u001b[0m\u001b[0mtitle\u001b[0m\u001b[0;34m(\u001b[0m\u001b[0;34m'Die 1'\u001b[0m\u001b[0;34m)\u001b[0m\u001b[0;34m\u001b[0m\u001b[0;34m\u001b[0m\u001b[0m\n\u001b[1;32m      6\u001b[0m \u001b[0;34m\u001b[0m\u001b[0m\n",
      "\u001b[0;31mNameError\u001b[0m: name 'data' is not defined"
     ]
    },
    {
     "data": {
      "image/png": "[encoded data removed]",
      "text/plain": [
       "<Figure size 576x576 with 1 Axes>"
      ]
     },
     "metadata": {
      "needs_background": "light"
     },
     "output_type": "display_data"
    }
   ],
   "source": [
    "plt.figure(figsize=(8,8))\n",
    "\n",
    "plt.subplot(2,2,1)\n",
    "plot_distro(data[\"Die 1\"])\n",
    "plt.title('Die 1')\n",
    "\n",
    "plt.subplot(2,2,2)\n",
    "plot_distro(data[\"Die 2\"])\n",
    "plt.title('Die 2')\n",
    "\n",
    "plt.subplot(2,2,(3,4))\n",
    "plot_distro(data[\"Sum\"])\n",
    "plt.title('Sum')"
   ]
  },
  {
   "cell_type": "code",
   "execution_count": null,
   "id": "capable-queen",
   "metadata": {},
   "outputs": [],
   "source": [
    "table = comparison_table(data[\"Sum\"])\n",
    "table"
   ]
  },
  {
   "cell_type": "code",
   "execution_count": null,
   "id": "cheap-audience",
   "metadata": {},
   "outputs": [],
   "source": [
    "compute_accuracy(table)"
   ]
  },
  {
   "cell_type": "markdown",
   "id": "going-society",
   "metadata": {},
   "source": [
    "## __Conclusion__\n",
    "--- \n",
    "iunno, man"
   ]
  }
 ],
 "metadata": {
  "kernelspec": {
   "display_name": "Python 3",
   "language": "python",
   "name": "python3"
  },
  "language_info": {
   "codemirror_mode": {
    "name": "ipython",
    "version": 3
   },
   "file_extension": ".py",
   "mimetype": "text/x-python",
   "name": "python",
   "nbconvert_exporter": "python",
   "pygments_lexer": "ipython3",
   "version": "3.9.1"
  }
 },
 "nbformat": 4,
 "nbformat_minor": 5
}
